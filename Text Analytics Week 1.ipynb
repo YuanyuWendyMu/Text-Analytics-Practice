{
 "cells": [
  {
   "cell_type": "markdown",
   "metadata": {},
   "source": [
    "## Load Text Files"
   ]
  },
  {
   "cell_type": "code",
   "execution_count": 19,
   "metadata": {},
   "outputs": [
    {
     "name": "stdout",
     "output_type": "stream",
     "text": [
      "<_io.TextIOWrapper name='tale-of-two-cities.txt' mode='r' encoding='cp1252'>\n"
     ]
    }
   ],
   "source": [
    "text_file = open('tale-of-two-cities.txt','r')\n",
    "print(text_file)"
   ]
  },
  {
   "cell_type": "code",
   "execution_count": 20,
   "metadata": {},
   "outputs": [
    {
     "data": {
      "text/plain": [
       "'  IT WAS the best of times, it was the worst of times, it was the\\n'"
      ]
     },
     "execution_count": 20,
     "metadata": {},
     "output_type": "execute_result"
    }
   ],
   "source": [
    "###Read the first line until hits a EOF (End of File) Marker\n",
    "text_file.readline()"
   ]
  },
  {
   "cell_type": "code",
   "execution_count": 21,
   "metadata": {},
   "outputs": [
    {
     "data": {
      "text/plain": [
       "'age o'"
      ]
     },
     "execution_count": 21,
     "metadata": {},
     "output_type": "execute_result"
    }
   ],
   "source": [
    "text_file.readline(5)"
   ]
  },
  {
   "cell_type": "code",
   "execution_count": 5,
   "metadata": {},
   "outputs": [],
   "source": [
    "#In-Class Question: Assume you just opened the text file with open(). What output is returned when text_file.readline(5) is called the second time?\n",
    "\n",
    "#A) The entire first line of the novel\n",
    "#B) The first 5 characters of the second line\n",
    "#C) The entire second line of the novel\n",
    "#D) The first 5 characters of the first line\n",
    "#E) The 6th-10th characters of the first line\n",
    "\n",
    "## The answer is E, corrct?"
   ]
  },
  {
   "cell_type": "code",
   "execution_count": 22,
   "metadata": {},
   "outputs": [
    {
     "name": "stdout",
     "output_type": "stream",
     "text": [
      "Interation 1:   IT \n",
      "Interation 2: WAS t\n",
      "Interation 3: he be\n",
      "Interation 4: st of\n",
      "Interation 5:  time\n",
      "Interation 6: s, it\n",
      "Interation 7:  was \n",
      "Interation 8: the w\n",
      "Interation 9: orst \n",
      "Interation 10: of ti\n"
     ]
    }
   ],
   "source": [
    "#Reset the starting position of the streaming\n",
    "text_file.seek(0)\n",
    "\n",
    "for i in range(10):\n",
    "    print(f'Interation {i +1 }: {text_file.readline(5)}')"
   ]
  },
  {
   "cell_type": "markdown",
   "metadata": {},
   "source": [
    "## Explore the length of the file"
   ]
  },
  {
   "cell_type": "code",
   "execution_count": 23,
   "metadata": {},
   "outputs": [],
   "source": [
    "#Read all lines\n",
    "text_file.seek(0)\n",
    "\n",
    "lines = text_file.readlines()"
   ]
  },
  {
   "cell_type": "code",
   "execution_count": 24,
   "metadata": {},
   "outputs": [
    {
     "name": "stdout",
     "output_type": "stream",
     "text": [
      "there are 12870 lines in the file\n"
     ]
    }
   ],
   "source": [
    "#This will return a list\n",
    "print(f'there are {len(lines)} lines in the file')"
   ]
  },
  {
   "cell_type": "code",
   "execution_count": 25,
   "metadata": {},
   "outputs": [
    {
     "name": "stdout",
     "output_type": "stream",
     "text": [
      "on average, there are 58.9 characters in one line\n"
     ]
    }
   ],
   "source": [
    "#Word Count\n",
    "total = 0\n",
    "for line in lines:\n",
    "    total += len(line)\n",
    "avg = round(total/len(lines),1)\n",
    "print(f'on average, there are {avg} characters in one line')"
   ]
  },
  {
   "cell_type": "markdown",
   "metadata": {},
   "source": [
    "## Viz of Summary Stats"
   ]
  },
  {
   "cell_type": "code",
   "execution_count": 10,
   "metadata": {},
   "outputs": [],
   "source": [
    "import matplotlib.pyplot as plt"
   ]
  },
  {
   "cell_type": "code",
   "execution_count": 11,
   "metadata": {},
   "outputs": [
    {
     "data": {
      "image/png": "[encoded data removed]",
      "text/plain": [
       "<Figure size 1080x432 with 1 Axes>"
      ]
     },
     "metadata": {
      "needs_background": "light"
     },
     "output_type": "display_data"
    }
   ],
   "source": [
    "NUM_BINS = 30\n",
    "plt.rcParams[\"figure.figsize\"] = (15,6)\n",
    "plt.hist([len(line) for line in lines], bins=NUM_BINS)\n",
    "plt.title(\"Distribution of Line Lengths in Tale of Two Cities\") # give the plot a title\n",
    "plt.xlabel(\"Number of Characters in Line\") # label the X axis\n",
    "plt.ylabel(\"Count of Lines\") # label the Y axis\n",
    "plt.show()"
   ]
  },
  {
   "cell_type": "markdown",
   "metadata": {},
   "source": [
    "## Count the occurrance of each word"
   ]
  },
  {
   "cell_type": "code",
   "execution_count": 12,
   "metadata": {},
   "outputs": [
    {
     "name": "stdout",
     "output_type": "stream",
     "text": [
      "there are 143345 words in the novel\n",
      "there are 21683 unique words in the novel\n"
     ]
    }
   ],
   "source": [
    "# Method 1 Create a dictionary of words and count\n",
    "words = []\n",
    "word_count = {}\n",
    "\n",
    "for line in lines:\n",
    "    for word in line.split(' '):\n",
    "        words.append(word)\n",
    "        \n",
    "        if word not in word_count.keys():\n",
    "            word_count[word] = 1\n",
    "        else:\n",
    "            word_count[word] +=1\n",
    "\n",
    "print(f'there are {len(words)} words in the novel')\n",
    "print(f'there are {len(word_count.keys())} unique words in the novel')\n"
   ]
  },
  {
   "cell_type": "code",
   "execution_count": 13,
   "metadata": {},
   "outputs": [
    {
     "name": "stdout",
     "output_type": "stream",
     "text": [
      "there are 21683 unique words in the novel\n"
     ]
    }
   ],
   "source": [
    "# how to return unique elements of the list words\n",
    "print(f'there are {len(set(words))} unique words in the novel')"
   ]
  },
  {
   "cell_type": "code",
   "execution_count": 20,
   "metadata": {},
   "outputs": [],
   "source": [
    "\"\"\"\n",
    "How to use assert statement to check uique words:\n",
    "assert <condition>,<error message>\n",
    "\"\"\"\n",
    "assert len(word_count.keys()) == len(set(words)),'This error message will be printed if the assertion to the left is not true.'"
   ]
  },
  {
   "cell_type": "code",
   "execution_count": 21,
   "metadata": {},
   "outputs": [],
   "source": [
    "test = ['I','am','just','a','test','list']"
   ]
  },
  {
   "cell_type": "code",
   "execution_count": 23,
   "metadata": {},
   "outputs": [
    {
     "ename": "AssertionError",
     "evalue": "Error, not equal",
     "output_type": "error",
     "traceback": [
      "\u001b[1;31m---------------------------------------------------------------------------\u001b[0m",
      "\u001b[1;31mAssertionError\u001b[0m                            Traceback (most recent call last)",
      "\u001b[1;32m<ipython-input-23-7debfc9a3ef4>\u001b[0m in \u001b[0;36m<module>\u001b[1;34m\u001b[0m\n\u001b[1;32m----> 1\u001b[1;33m \u001b[1;32massert\u001b[0m \u001b[0mlen\u001b[0m\u001b[1;33m(\u001b[0m\u001b[0mword_count\u001b[0m\u001b[1;33m.\u001b[0m\u001b[0mkeys\u001b[0m\u001b[1;33m(\u001b[0m\u001b[1;33m)\u001b[0m\u001b[1;33m)\u001b[0m \u001b[1;33m==\u001b[0m \u001b[0mlen\u001b[0m\u001b[1;33m(\u001b[0m\u001b[0mset\u001b[0m\u001b[1;33m(\u001b[0m\u001b[0mtest\u001b[0m\u001b[1;33m)\u001b[0m\u001b[1;33m)\u001b[0m\u001b[1;33m,\u001b[0m\u001b[1;34m'Error, not equal'\u001b[0m\u001b[1;33m\u001b[0m\u001b[1;33m\u001b[0m\u001b[0m\n\u001b[0m",
      "\u001b[1;31mAssertionError\u001b[0m: Error, not equal"
     ]
    }
   ],
   "source": [
    "assert len(word_count.keys()) == len(set(test)),'Error, not equal'"
   ]
  },
  {
   "cell_type": "code",
   "execution_count": 26,
   "metadata": {},
   "outputs": [],
   "source": [
    "# Method 2 use Python built in counter\n",
    "# Tutorial here https://pymotw.com/2/collections/counter.html\n",
    "from collections import Counter\n",
    "def count_words(lines, delimiter=\" \"):\n",
    "    words = Counter()\n",
    "    \n",
    "    for line in lines:\n",
    "        for word in line.split(delimiter):\n",
    "            words[word] += 1\n",
    "    \n",
    "    return words    "
   ]
  },
  {
   "cell_type": "code",
   "execution_count": 28,
   "metadata": {},
   "outputs": [
    {
     "data": {
      "text/plain": [
       "Counter({'': 7027,\n",
       "         'IT': 3,\n",
       "         'WAS': 4,\n",
       "         'the': 6634,\n",
       "         'best': 32,\n",
       "         'of': 3623,\n",
       "         'times,': 17,\n",
       "         'it': 1104,\n",
       "         'was': 1558,\n",
       "         'worst': 13,\n",
       "         'the\\n': 729,\n",
       "         'age': 5,\n",
       "         'wisdom,': 2,\n",
       "         'foolishness,': 1,\n",
       "         'epoch': 2,\n",
       "         'of\\n': 321,\n",
       "         'belief,': 2,\n",
       "         'incredulity,': 1,\n",
       "         'season': 5,\n",
       "         'Light,\\n': 1,\n",
       "         'Darkness,': 1,\n",
       "         'spring': 3,\n",
       "         'hope,': 5,\n",
       "         'winter': 8,\n",
       "         'despair,': 2,\n",
       "         'we': 102,\n",
       "         'had': 1177,\n",
       "         'everything': 16,\n",
       "         'before': 170,\n",
       "         'us,': 29,\n",
       "         'nothing\\n': 9,\n",
       "         'were': 577,\n",
       "         'all': 410,\n",
       "         'going': 71,\n",
       "         'direct': 5,\n",
       "         'to': 3145,\n",
       "         'Heaven,': 10,\n",
       "         'going\\n': 3,\n",
       "         'other': 128,\n",
       "         'way-': 8,\n",
       "         'in': 2212,\n",
       "         'short,': 15,\n",
       "         'period': 2,\n",
       "         'so': 374,\n",
       "         'far': 65,\n",
       "         'like': 175,\n",
       "         'present\\n': 7,\n",
       "         'period,': 2,\n",
       "         'that': 1568,\n",
       "         'some': 181,\n",
       "         'its': 197,\n",
       "         'noisiest': 1,\n",
       "         'authorities': 2,\n",
       "         'insisted': 2,\n",
       "         'on': 754,\n",
       "         'being\\n': 8,\n",
       "         'received,': 1,\n",
       "         'for': 811,\n",
       "         'good': 122,\n",
       "         'or': 324,\n",
       "         'evil,': 3,\n",
       "         'superlative': 1,\n",
       "         'degree': 8,\n",
       "         'comparison': 3,\n",
       "         'only.\\n': 1,\n",
       "         'There': 90,\n",
       "         'a': 2561,\n",
       "         'king': 4,\n",
       "         'with': 1163,\n",
       "         'large': 27,\n",
       "         'jaw': 2,\n",
       "         'and': 4318,\n",
       "         'queen': 2,\n",
       "         'plain': 12,\n",
       "         'face,': 42,\n",
       "         'on\\n': 57,\n",
       "         'throne': 3,\n",
       "         'England;': 2,\n",
       "         'there': 265,\n",
       "         'a\\n': 231,\n",
       "         'fair': 16,\n",
       "         'France.': 6,\n",
       "         'In': 88,\n",
       "         'both': 65,\n",
       "         'countries\\n': 2,\n",
       "         'clearer': 1,\n",
       "         'than': 193,\n",
       "         'crystal': 1,\n",
       "         'lords': 5,\n",
       "         'State': 5,\n",
       "         'preserves': 1,\n",
       "         'loaves': 1,\n",
       "         'fishes,': 1,\n",
       "         'things': 40,\n",
       "         'general': 23,\n",
       "         'settled': 5,\n",
       "         'ever.\\n': 5,\n",
       "         'It': 219,\n",
       "         'year': 18,\n",
       "         'Our': 7,\n",
       "         'Lord': 12,\n",
       "         'one': 311,\n",
       "         'thousand': 20,\n",
       "         'seven': 19,\n",
       "         'hundred': 33,\n",
       "         'and\\n': 409,\n",
       "         'seventy-five.': 2,\n",
       "         'Spiritual': 1,\n",
       "         'revelations': 1,\n",
       "         'conceded': 1,\n",
       "         'England': 9,\n",
       "         'at': 897,\n",
       "         'that\\n': 102,\n",
       "         'favoured': 5,\n",
       "         'as': 966,\n",
       "         'this.': 10,\n",
       "         'Mrs.': 17,\n",
       "         'Southcott': 1,\n",
       "         'recently': 2,\n",
       "         'attained\\n': 1,\n",
       "         'her': 747,\n",
       "         'five-and-twentieth': 1,\n",
       "         'blessed': 7,\n",
       "         'birthday,': 2,\n",
       "         'whom': 60,\n",
       "         'prophetic': 1,\n",
       "         'private\\n': 1,\n",
       "         'Life': 5,\n",
       "         'Guards': 3,\n",
       "         'heralded': 1,\n",
       "         'sublime': 2,\n",
       "         'appearance': 22,\n",
       "         'by': 490,\n",
       "         'announcing\\n': 1,\n",
       "         'arrangements': 6,\n",
       "         'made': 161,\n",
       "         'swallowing': 3,\n",
       "         'up': 230,\n",
       "         'London': 9,\n",
       "         'Westminster.': 1,\n",
       "         'Even': 12,\n",
       "         'Cock-lane': 2,\n",
       "         'ghost': 10,\n",
       "         'been': 380,\n",
       "         'laid': 51,\n",
       "         'only': 102,\n",
       "         'round': 51,\n",
       "         'dozen\\n': 2,\n",
       "         'years,': 16,\n",
       "         'after': 99,\n",
       "         'rapping': 1,\n",
       "         'out': 313,\n",
       "         'messages,': 1,\n",
       "         'spirits': 5,\n",
       "         'this\\n': 41,\n",
       "         'very': 194,\n",
       "         'last': 95,\n",
       "         'past': 15,\n",
       "         '(supernaturally': 1,\n",
       "         'deficient': 1,\n",
       "         'originality)': 1,\n",
       "         'rapped\\n': 1,\n",
       "         'theirs.': 1,\n",
       "         'Mere': 1,\n",
       "         'messages': 2,\n",
       "         'earthly': 5,\n",
       "         'order': 15,\n",
       "         'events': 6,\n",
       "         'lately\\n': 1,\n",
       "         'come': 109,\n",
       "         'English': 27,\n",
       "         'Crown': 1,\n",
       "         'People,': 1,\n",
       "         'from': 452,\n",
       "         'congress': 1,\n",
       "         'British\\n': 2,\n",
       "         'subjects': 1,\n",
       "         'America:': 1,\n",
       "         'which,': 12,\n",
       "         'strange': 20,\n",
       "         'relate,': 1,\n",
       "         'have': 651,\n",
       "         'proved': 2,\n",
       "         'more\\n': 20,\n",
       "         'important': 4,\n",
       "         'human': 21,\n",
       "         'race': 5,\n",
       "         'any': 194,\n",
       "         'communications': 3,\n",
       "         'yet': 62,\n",
       "         'received\\n': 1,\n",
       "         'through': 139,\n",
       "         'chickens': 1,\n",
       "         'brood.\\n': 1,\n",
       "         'France,': 13,\n",
       "         'less': 29,\n",
       "         'whole': 32,\n",
       "         'matters': 3,\n",
       "         'spiritual': 1,\n",
       "         'than\\n': 21,\n",
       "         'sister': 10,\n",
       "         'shield': 1,\n",
       "         'trident,': 1,\n",
       "         'rolled': 11,\n",
       "         'exceeding': 1,\n",
       "         'smoothness\\n': 1,\n",
       "         'down': 158,\n",
       "         'hill,': 12,\n",
       "         'making': 30,\n",
       "         'paper': 26,\n",
       "         'money': 11,\n",
       "         'spending': 1,\n",
       "         'it.': 107,\n",
       "         'Under': 6,\n",
       "         'guidance': 3,\n",
       "         'Christian': 6,\n",
       "         'pastors,': 1,\n",
       "         'she': 304,\n",
       "         'entertained': 1,\n",
       "         'herself,': 10,\n",
       "         'besides,': 2,\n",
       "         'such\\n': 10,\n",
       "         'humane': 1,\n",
       "         'achievements': 1,\n",
       "         'sentencing': 1,\n",
       "         'youth': 5,\n",
       "         'his': 1754,\n",
       "         'hands': 71,\n",
       "         'cut': 9,\n",
       "         'off,\\n': 3,\n",
       "         'tongue': 3,\n",
       "         'torn': 6,\n",
       "         'pincers,': 1,\n",
       "         'body': 14,\n",
       "         'burned': 1,\n",
       "         'alive,': 4,\n",
       "         'because\\n': 6,\n",
       "         'he': 1285,\n",
       "         'not': 693,\n",
       "         'kneeled': 5,\n",
       "         'rain': 10,\n",
       "         'do': 196,\n",
       "         'honour': 21,\n",
       "         'dirty': 6,\n",
       "         'procession\\n': 1,\n",
       "         'monks': 1,\n",
       "         'which': 356,\n",
       "         'passed': 51,\n",
       "         'within': 48,\n",
       "         'view,': 4,\n",
       "         'distance': 8,\n",
       "         'fifty\\n': 2,\n",
       "         'sixty': 3,\n",
       "         'yards.': 1,\n",
       "         'is': 658,\n",
       "         'likely': 12,\n",
       "         'enough': 44,\n",
       "         'that,': 57,\n",
       "         'rooted': 2,\n",
       "         'woods': 1,\n",
       "         'France': 25,\n",
       "         'Norway,': 1,\n",
       "         'growing': 10,\n",
       "         'trees,': 4,\n",
       "         'when': 339,\n",
       "         'sufferer': 4,\n",
       "         'was\\n': 116,\n",
       "         'put': 100,\n",
       "         'death,': 8,\n",
       "         'already': 33,\n",
       "         'marked': 5,\n",
       "         'Woodman,': 1,\n",
       "         'Fate,': 1,\n",
       "         'be\\n': 66,\n",
       "         'sawn': 1,\n",
       "         'into': 290,\n",
       "         'boards,': 1,\n",
       "         'make': 67,\n",
       "         'certain': 26,\n",
       "         'movable': 1,\n",
       "         'framework': 1,\n",
       "         'sack\\n': 1,\n",
       "         'knife': 6,\n",
       "         'it,': 213,\n",
       "         'terrible': 12,\n",
       "         'history.': 1,\n",
       "         'in\\n': 186,\n",
       "         'rough': 11,\n",
       "         'outhouses': 1,\n",
       "         'tillers': 1,\n",
       "         'heavy': 30,\n",
       "         'lands': 1,\n",
       "         'adjacent': 4,\n",
       "         'to\\n': 253,\n",
       "         'Paris,': 20,\n",
       "         'sheltered': 1,\n",
       "         'weather': 3,\n",
       "         'day,': 60,\n",
       "         'rude\\n': 1,\n",
       "         'carts,': 3,\n",
       "         'bespattered': 1,\n",
       "         'rustic': 4,\n",
       "         'mire,': 1,\n",
       "         'snuffed': 1,\n",
       "         'about': 128,\n",
       "         'pigs,': 1,\n",
       "         'roosted': 1,\n",
       "         'poultry,': 1,\n",
       "         'Farmer,': 2,\n",
       "         'Death,': 4,\n",
       "         'set\\n': 4,\n",
       "         'apart': 8,\n",
       "         'be': 623,\n",
       "         'tumbrils': 9,\n",
       "         'Revolution.': 1,\n",
       "         'But': 63,\n",
       "         'Woodman': 2,\n",
       "         'though': 75,\n",
       "         'they': 412,\n",
       "         'work': 38,\n",
       "         'unceasingly,': 1,\n",
       "         'silently': 9,\n",
       "         'no': 380,\n",
       "         'one\\n': 21,\n",
       "         'heard': 47,\n",
       "         'them': 208,\n",
       "         'went': 93,\n",
       "         'muffled': 4,\n",
       "         'tread:': 1,\n",
       "         'rather,\\n': 1,\n",
       "         'forasmuch': 2,\n",
       "         'entertain': 2,\n",
       "         'suspicion': 9,\n",
       "         'awake,': 4,\n",
       "         'atheistical': 1,\n",
       "         'traitorous.\\n': 1,\n",
       "         'England,': 7,\n",
       "         'scarcely': 16,\n",
       "         'an': 301,\n",
       "         'amount': 1,\n",
       "         'protection\\n': 1,\n",
       "         'justify': 3,\n",
       "         'much': 135,\n",
       "         'national': 8,\n",
       "         'boasting.': 1,\n",
       "         'Daring': 1,\n",
       "         'burglaries': 1,\n",
       "         'armed': 7,\n",
       "         'men,': 18,\n",
       "         'highway': 3,\n",
       "         'robberies,': 1,\n",
       "         'took': 103,\n",
       "         'place': 61,\n",
       "         'capital': 2,\n",
       "         'itself': 29,\n",
       "         'every': 93,\n",
       "         'night;\\n': 1,\n",
       "         'families': 1,\n",
       "         'publicly': 2,\n",
       "         'cautioned': 1,\n",
       "         'go': 97,\n",
       "         'town': 8,\n",
       "         'without\\n': 11,\n",
       "         'removing': 2,\n",
       "         'their': 275,\n",
       "         'furniture': 1,\n",
       "         \"upholsterers'\": 1,\n",
       "         'warehouses': 1,\n",
       "         'security;': 1,\n",
       "         'highwayman': 1,\n",
       "         'dark': 59,\n",
       "         'City': 3,\n",
       "         'tradesman': 3,\n",
       "         'light,': 12,\n",
       "         'and,': 51,\n",
       "         'recognised': 4,\n",
       "         'challenged': 1,\n",
       "         'fellow-tradesman': 1,\n",
       "         'stopped': 44,\n",
       "         'character': 10,\n",
       "         '\"the': 12,\n",
       "         'Captain,\"': 1,\n",
       "         'gallantly': 1,\n",
       "         'shot': 9,\n",
       "         'him': 481,\n",
       "         'head\\n': 8,\n",
       "         'rode': 7,\n",
       "         'away;': 6,\n",
       "         'mail': 11,\n",
       "         'waylaid': 1,\n",
       "         'robbers,': 1,\n",
       "         'guard\\n': 3,\n",
       "         'three': 75,\n",
       "         'dead,': 11,\n",
       "         'then': 101,\n",
       "         'got': 73,\n",
       "         'dead': 23,\n",
       "         'himself': 143,\n",
       "         'four,': 3,\n",
       "         '\"in\\n': 1,\n",
       "         'consequence': 2,\n",
       "         'failure': 2,\n",
       "         'ammunition:\"': 1,\n",
       "         'mail\\n': 1,\n",
       "         'robbed': 3,\n",
       "         'peace;': 1,\n",
       "         'magnificent': 1,\n",
       "         'potentate,': 1,\n",
       "         'Mayor': 1,\n",
       "         'London,': 11,\n",
       "         'stand': 14,\n",
       "         'deliver': 7,\n",
       "         'Turnham': 1,\n",
       "         'Green,': 1,\n",
       "         'highwayman,': 1,\n",
       "         'who': 312,\n",
       "         'despoiled': 1,\n",
       "         'illustrious': 2,\n",
       "         'creature': 17,\n",
       "         'sight': 23,\n",
       "         'his\\n': 164,\n",
       "         'retinue;': 1,\n",
       "         'prisoners': 12,\n",
       "         'gaols': 1,\n",
       "         'fought': 2,\n",
       "         'battles': 1,\n",
       "         'their\\n': 37,\n",
       "         'turkeys,': 1,\n",
       "         'majesty': 2,\n",
       "         'law': 10,\n",
       "         'fired': 5,\n",
       "         'blunderbusses': 1,\n",
       "         'among': 91,\n",
       "         'them,\\n': 4,\n",
       "         'loaded': 6,\n",
       "         'rounds': 2,\n",
       "         'ball;': 1,\n",
       "         'thieves': 1,\n",
       "         'snipped': 1,\n",
       "         'off': 55,\n",
       "         'diamond\\n': 1,\n",
       "         'crosses': 1,\n",
       "         'necks': 1,\n",
       "         'noble': 11,\n",
       "         'Court': 8,\n",
       "         'drawing-rooms;\\n': 1,\n",
       "         'musketeers': 2,\n",
       "         'St.': 7,\n",
       "         \"Giles's,\": 1,\n",
       "         'search': 6,\n",
       "         'contraband': 2,\n",
       "         'goods,\\n': 1,\n",
       "         'mob': 1,\n",
       "         'musketeers,': 1,\n",
       "         'fir': 1,\n",
       "         'mob,': 3,\n",
       "         'nobody': 10,\n",
       "         'thought': 45,\n",
       "         'these': 134,\n",
       "         'occurrences': 1,\n",
       "         'common': 16,\n",
       "         'way.': 18,\n",
       "         'midst': 14,\n",
       "         'them,': 86,\n",
       "         'hangman,': 2,\n",
       "         'ever': 84,\n",
       "         'busy': 5,\n",
       "         'ever\\n': 5,\n",
       "         'worse': 9,\n",
       "         'useless,': 2,\n",
       "         'constant': 1,\n",
       "         'requisition;': 1,\n",
       "         'now,': 48,\n",
       "         'stringing': 1,\n",
       "         'up\\n': 13,\n",
       "         'long': 137,\n",
       "         'rows': 1,\n",
       "         'miscellaneous': 1,\n",
       "         'criminals;': 1,\n",
       "         'hanging': 11,\n",
       "         'housebreaker': 1,\n",
       "         'Saturday': 2,\n",
       "         'taken': 66,\n",
       "         'Tuesday;': 1,\n",
       "         'burning': 8,\n",
       "         'people': 88,\n",
       "         'hand': 124,\n",
       "         'Newgate': 2,\n",
       "         'dozen,': 1,\n",
       "         'now': 93,\n",
       "         'pamphlets': 1,\n",
       "         'door': 56,\n",
       "         'Westminster': 1,\n",
       "         'Hall;': 1,\n",
       "         'to-day,': 8,\n",
       "         'taking': 38,\n",
       "         'life': 62,\n",
       "         'atrocious': 1,\n",
       "         'murderer,\\n': 1,\n",
       "         'to-morrow': 8,\n",
       "         'wretched': 11,\n",
       "         'pilferer': 1,\n",
       "         \"farmer's\": 2,\n",
       "         'boy\\n': 3,\n",
       "         'sixpence.\\n': 1,\n",
       "         'All': 32,\n",
       "         'things,': 14,\n",
       "         'came': 118,\n",
       "         'pass': 22,\n",
       "         'close': 40,\n",
       "         'upon': 259,\n",
       "         'dear': 77,\n",
       "         'old': 125,\n",
       "         'Environed': 1,\n",
       "         'while': 67,\n",
       "         'Farmer\\n': 1,\n",
       "         'worked': 16,\n",
       "         'unheeded,': 1,\n",
       "         'those': 94,\n",
       "         'two': 145,\n",
       "         'jaws,': 1,\n",
       "         'faces,': 11,\n",
       "         'trod': 5,\n",
       "         'stir': 4,\n",
       "         'enough,': 13,\n",
       "         'carried': 42,\n",
       "         'divine': 2,\n",
       "         'rights': 1,\n",
       "         'high': 33,\n",
       "         'hand.': 15,\n",
       "         'Thus': 9,\n",
       "         'did': 121,\n",
       "         'seven\\n': 2,\n",
       "         'seventy-five': 1,\n",
       "         'conduct': 3,\n",
       "         'Greatnesses,': 1,\n",
       "         'myriads': 1,\n",
       "         'small': 32,\n",
       "         'creatures-': 2,\n",
       "         'creatures': 4,\n",
       "         'this': 390,\n",
       "         'chronicle': 1,\n",
       "         'rest-': 1,\n",
       "         'along\\n': 3,\n",
       "         'roads': 23,\n",
       "         'lay': 58,\n",
       "         'them.\\n': 25,\n",
       "         'II\\n': 3,\n",
       "         'THE': 40,\n",
       "         'MAIL\\n': 1,\n",
       "         '\\n': 58,\n",
       "         'Dover': 11,\n",
       "         'road': 19,\n",
       "         'lay,': 2,\n",
       "         'Friday': 4,\n",
       "         'night': 75,\n",
       "         'late': 15,\n",
       "         'November,': 2,\n",
       "         'first': 78,\n",
       "         'persons': 5,\n",
       "         'history': 7,\n",
       "         'has\\n': 13,\n",
       "         'business.': 14,\n",
       "         'The': 489,\n",
       "         'him,': 204,\n",
       "         'beyond': 23,\n",
       "         'mail,': 6,\n",
       "         'as\\n': 62,\n",
       "         'lumbered': 2,\n",
       "         \"Shooter's\": 3,\n",
       "         'Hill.': 1,\n",
       "         'He': 350,\n",
       "         'walked': 40,\n",
       "         'hill': 10,\n",
       "         'mire': 1,\n",
       "         'side': 39,\n",
       "         'rest': 18,\n",
       "         'passengers': 12,\n",
       "         'did;': 1,\n",
       "         'least': 14,\n",
       "         'relish': 2,\n",
       "         'walking': 17,\n",
       "         'exercise,': 2,\n",
       "         'under': 122,\n",
       "         'circumstances,': 4,\n",
       "         'but': 367,\n",
       "         'because': 28,\n",
       "         'harness,': 1,\n",
       "         'mud,': 6,\n",
       "         'heavy,': 5,\n",
       "         'horses': 21,\n",
       "         'times': 25,\n",
       "         'already\\n': 4,\n",
       "         'stop,': 1,\n",
       "         'besides': 9,\n",
       "         'once': 52,\n",
       "         'drawing': 17,\n",
       "         'coach': 20,\n",
       "         'across': 32,\n",
       "         'road,': 11,\n",
       "         'with\\n': 82,\n",
       "         'mutinous': 1,\n",
       "         'intent': 14,\n",
       "         'back': 84,\n",
       "         'Blackheath.': 1,\n",
       "         'Reins': 1,\n",
       "         'whip\\n': 1,\n",
       "         'coachman': 4,\n",
       "         'guard,': 10,\n",
       "         'however,': 16,\n",
       "         'combination,': 1,\n",
       "         'read': 21,\n",
       "         'article\\n': 1,\n",
       "         'war': 1,\n",
       "         'forbade': 2,\n",
       "         'purpose': 6,\n",
       "         'otherwise': 12,\n",
       "         'strongly': 9,\n",
       "         'favour': 14,\n",
       "         'argument,': 1,\n",
       "         'brute': 2,\n",
       "         'animals': 1,\n",
       "         'are': 271,\n",
       "         'endued': 1,\n",
       "         'Reason;': 1,\n",
       "         'team\\n': 1,\n",
       "         'capitulated': 1,\n",
       "         'returned': 70,\n",
       "         'duty.\\n': 1,\n",
       "         'With': 33,\n",
       "         'drooping': 4,\n",
       "         'heads': 26,\n",
       "         'tremulous': 2,\n",
       "         'tails,': 1,\n",
       "         'mashed': 1,\n",
       "         'way\\n': 5,\n",
       "         'thick': 4,\n",
       "         'floundering': 1,\n",
       "         'stumbling': 1,\n",
       "         'between': 59,\n",
       "         'whiles,': 2,\n",
       "         'if\\n': 24,\n",
       "         'falling': 6,\n",
       "         'pieces': 9,\n",
       "         'larger': 3,\n",
       "         'joints.': 1,\n",
       "         'As': 94,\n",
       "         'often': 29,\n",
       "         'driver': 3,\n",
       "         'rested': 10,\n",
       "         'brought': 76,\n",
       "         'stand,': 2,\n",
       "         'wary': 2,\n",
       "         '\"Wo-ho!\\n': 1,\n",
       "         'so-ho-then!\"': 1,\n",
       "         'near': 37,\n",
       "         'leader': 4,\n",
       "         'violently': 4,\n",
       "         'shook': 27,\n",
       "         'head': 110,\n",
       "         'everything\\n': 3,\n",
       "         'it-': 15,\n",
       "         'unusually': 2,\n",
       "         'emphatic': 4,\n",
       "         'horse,': 5,\n",
       "         'denying': 1,\n",
       "         'coach\\n': 3,\n",
       "         'could': 241,\n",
       "         'hill.': 4,\n",
       "         'Whenever': 1,\n",
       "         'rattle,': 2,\n",
       "         'passenger': 15,\n",
       "         'started,': 4,\n",
       "         'nervous': 2,\n",
       "         'might,': 6,\n",
       "         'disturbed\\n': 1,\n",
       "         'mind.\\n': 6,\n",
       "         'steaming': 1,\n",
       "         'mist': 12,\n",
       "         'hollows,': 1,\n",
       "         'roamed': 1,\n",
       "         'forlornness': 1,\n",
       "         'evil': 4,\n",
       "         'spirit,': 6,\n",
       "         'seeking': 3,\n",
       "         'finding': 3,\n",
       "         'none.': 8,\n",
       "         'A': 99,\n",
       "         'clammy': 1,\n",
       "         'intensely': 3,\n",
       "         'cold': 20,\n",
       "         'mist,': 3,\n",
       "         'slow': 7,\n",
       "         'air': 33,\n",
       "         'ripples': 1,\n",
       "         'visibly': 2,\n",
       "         'followed': 25,\n",
       "         'overspread': 1,\n",
       "         'another,': 16,\n",
       "         'waves': 4,\n",
       "         'unwholesome': 3,\n",
       "         'sea': 15,\n",
       "         'might': 125,\n",
       "         'do.': 5,\n",
       "         'dense\\n': 1,\n",
       "         'shut': 16,\n",
       "         'light': 64,\n",
       "         'coach-lamps': 1,\n",
       "         'but\\n': 22,\n",
       "         'own': 114,\n",
       "         'workings,': 1,\n",
       "         'few': 70,\n",
       "         'yards': 3,\n",
       "         'road;': 1,\n",
       "         'reek': 1,\n",
       "         'labouring': 2,\n",
       "         'steamed': 2,\n",
       "         'if': 307,\n",
       "         'all.\\n': 4,\n",
       "         'Two': 11,\n",
       "         'passengers,': 4,\n",
       "         'one,': 20,\n",
       "         'plodding': 2,\n",
       "         'hill\\n': 1,\n",
       "         'mail.': 2,\n",
       "         'wrapped': 6,\n",
       "         'cheekbones\\n': 1,\n",
       "         'over': 145,\n",
       "         'cars,': 1,\n",
       "         'wore': 18,\n",
       "         'jack-boots.': 1,\n",
       "         'Not': 26,\n",
       "         'could\\n': 19,\n",
       "         'said,': 57,\n",
       "         'anything': 41,\n",
       "         'saw,': 5,\n",
       "         'what': 219,\n",
       "         'either': 22,\n",
       "         'like;': 2,\n",
       "         'each': 23,\n",
       "         'hidden': 10,\n",
       "         'almost': 35,\n",
       "         'many': 114,\n",
       "         'wrappers': 1,\n",
       "         'eyes': 110,\n",
       "         'mind,': 30,\n",
       "         'body,': 4,\n",
       "         'companions.\\n': 2,\n",
       "         'days,': 14,\n",
       "         'travellers': 2,\n",
       "         'shy': 1,\n",
       "         'being': 122,\n",
       "         'confidential': 3,\n",
       "         'short': 20,\n",
       "         'notice,': 4,\n",
       "         'anybody': 7,\n",
       "         'robber': 1,\n",
       "         'league\\n': 1,\n",
       "         'robbers.': 1,\n",
       "         'latter,': 3,\n",
       "         'posting-house': 3,\n",
       "         'ale-house\\n': 1,\n",
       "         'produce': 4,\n",
       "         'somebody': 11,\n",
       "         'Captain\\'s\"': 1,\n",
       "         'pay,': 2,\n",
       "         'ranging': 1,\n",
       "         'landlord': 1,\n",
       "         'lowest': 3,\n",
       "         'stable': 2,\n",
       "         'nondescript,': 1,\n",
       "         'likeliest\\n': 1,\n",
       "         'thing': 30,\n",
       "         'cards.': 1,\n",
       "         'So': 27,\n",
       "         'guard': 18,\n",
       "         'himself,': 35,\n",
       "         'seventy-five,': 2,\n",
       "         'lumbering': 6,\n",
       "         'Hill,': 1,\n",
       "         'stood': 77,\n",
       "         'own\\n': 19,\n",
       "         'particular': 10,\n",
       "         'perch': 1,\n",
       "         'behind': 44,\n",
       "         'beating': 8,\n",
       "         'feet,': 9,\n",
       "         'keeping': 8,\n",
       "         'eye\\n': 7,\n",
       "         'arm-chest': 1,\n",
       "         'where': 123,\n",
       "         'blunderbuss': 2,\n",
       "         'lay\\n': 5,\n",
       "         'top': 14,\n",
       "         'six': 11,\n",
       "         'eight': 13,\n",
       "         'horse-pistols,': 1,\n",
       "         'deposited': 1,\n",
       "         'substratum': 1,\n",
       "         'cutlass.\\n': 1,\n",
       "         'usual': 38,\n",
       "         'genial': 1,\n",
       "         'position': 5,\n",
       "         'suspected': 7,\n",
       "         'another': 86,\n",
       "         'everybody': 8,\n",
       "         'else,': 4,\n",
       "         'sure': 25,\n",
       "         'nothing': 92,\n",
       "         'horses;': 2,\n",
       "         'cattle': 1,\n",
       "         'clear\\n': 2,\n",
       "         'conscience': 2,\n",
       "         'oath': 2,\n",
       "         'Testaments': 1,\n",
       "         'were\\n': 55,\n",
       "         'fit': 8,\n",
       "         'journey.\\n': 1,\n",
       "         '\"Wo-ho!\"': 1,\n",
       "         'said': 557,\n",
       "         'coachman.': 1,\n",
       "         '\"So,': 2,\n",
       "         'then!': 6,\n",
       "         'One': 25,\n",
       "         'more': 187,\n",
       "         'pull': 6,\n",
       "         \"you're\": 7,\n",
       "         'at\\n': 66,\n",
       "         'damned': 1,\n",
       "         'you,': 121,\n",
       "         'I': 1374,\n",
       "         'trouble': 11,\n",
       "         'get': 52,\n",
       "         'you\\n': 46,\n",
       "         'it!-': 1,\n",
       "         'Joe!\"\\n': 1,\n",
       "         '\"Halloa!\"': 2,\n",
       "         'replied.\\n': 1,\n",
       "         '\"What': 65,\n",
       "         \"o'clock\": 9,\n",
       "         'you': 812,\n",
       "         'Joe?\"\\n': 1,\n",
       "         '\"Ten': 3,\n",
       "         'minutes,': 8,\n",
       "         'good,': 11,\n",
       "         'eleven.\"\\n': 1,\n",
       "         '\"My': 37,\n",
       "         'blood!\"': 1,\n",
       "         'ejaculated': 1,\n",
       "         'vexed': 2,\n",
       "         'coachman,': 3,\n",
       "         '\"and': 38,\n",
       "         'atop': 1,\n",
       "         'yet!': 1,\n",
       "         'Tst!': 4,\n",
       "         'Yah!': 2,\n",
       "         'Get': 3,\n",
       "         'you!\"\\n': 10,\n",
       "         'whip': 1,\n",
       "         'most': 58,\n",
       "         'decided\\n': 1,\n",
       "         'negative,': 1,\n",
       "         'decided': 4,\n",
       "         'scramble': 1,\n",
       "         'horses\\n': 2,\n",
       "         'suit.': 1,\n",
       "         'Once': 5,\n",
       "         'more,': 16,\n",
       "         'struggled': 5,\n",
       "         'on,': 37,\n",
       "         'jack-boots': 1,\n",
       "         'squashing': 1,\n",
       "         'along': 28,\n",
       "         'side.': 7,\n",
       "         'They': 87,\n",
       "         'had\\n': 92,\n",
       "         'stopped,': 6,\n",
       "         'kept': 34,\n",
       "         'company': 10,\n",
       "         'it.\\n': 39,\n",
       "         'If': 63,\n",
       "         'hardihood': 1,\n",
       "         'propose': 3,\n",
       "         'walk': 9,\n",
       "         'little': 226,\n",
       "         'ahead': 1,\n",
       "         'darkness,': 10,\n",
       "         'would': 307,\n",
       "         'put\\n': 7,\n",
       "         'way': 91,\n",
       "         'getting': 16,\n",
       "         'instantly': 3,\n",
       "         'highwayman.\\n': 1,\n",
       "         'burst': 7,\n",
       "         'summit': 3,\n",
       "         'The\\n': 41,\n",
       "         'breathe': 3,\n",
       "         'again,': 76,\n",
       "         'skid': 1,\n",
       "         'wheel': 1,\n",
       "         'descent,': 3,\n",
       "         'open': 31,\n",
       "         'coach-door': 3,\n",
       "         'let': 58,\n",
       "         'passengers\\n': 1,\n",
       "         'in.\\n': 7,\n",
       "         '\"Tst!': 1,\n",
       "         'Joe!\"': 1,\n",
       "         'cried': 41,\n",
       "         'warning': 2,\n",
       "         'voice,': 32,\n",
       "         'looking': 105,\n",
       "         'from\\n': 39,\n",
       "         'box.\\n': 1,\n",
       "         'say,': 33,\n",
       "         'Tom?\"\\n': 2,\n",
       "         'listened.\\n': 1,\n",
       "         '\"I': 399,\n",
       "         'say': 90,\n",
       "         'horse': 15,\n",
       "         'canter': 1,\n",
       "         'coming': 38,\n",
       "         'up,': 40,\n",
       "         'Joe.\"\\n': 4,\n",
       "         'gallop,': 2,\n",
       "         'Tom,\"': 1,\n",
       "         'leaving': 12,\n",
       "         'hold': 36,\n",
       "         'door,': 33,\n",
       "         'mounting': 1,\n",
       "         'nimbly': 2,\n",
       "         'place.': 9,\n",
       "         '\"Gentlemen!': 1,\n",
       "         \"king's\": 3,\n",
       "         'name,': 14,\n",
       "         'hurried': 15,\n",
       "         'adjuration,': 1,\n",
       "         'cocked': 2,\n",
       "         'blunderbuss,': 2,\n",
       "         'stood\\n': 5,\n",
       "         'offensive.\\n': 2,\n",
       "         'booked': 2,\n",
       "         'history,': 2,\n",
       "         'coach-step,': 1,\n",
       "         'getting\\n': 2,\n",
       "         'in;': 4,\n",
       "         'follow.': 3,\n",
       "         'remained': 19,\n",
       "         'step,': 5,\n",
       "         'half': 50,\n",
       "         'of;\\n': 1,\n",
       "         'below': 3,\n",
       "         'him.': 79,\n",
       "         'looked': 172,\n",
       "         'coachman\\n': 1,\n",
       "         'listened.': 1,\n",
       "         'back,': 28,\n",
       "         'even': 105,\n",
       "         'pricked': 2,\n",
       "         'ears': 8,\n",
       "         'contradicting.\\n': 1,\n",
       "         'stillness': 5,\n",
       "         'consequent': 2,\n",
       "         'cessation': 2,\n",
       "         'rumbling': 1,\n",
       "         'coach,': 11,\n",
       "         'added': 18,\n",
       "         'night,': 58,\n",
       "         'it\\n': 70,\n",
       "         'quiet': 24,\n",
       "         'indeed.': 3,\n",
       "         'panting': 1,\n",
       "         'communicated': 5,\n",
       "         'motion': 3,\n",
       "         'state': 34,\n",
       "         'agitation.': 2,\n",
       "         'hearts': 6,\n",
       "         'beat': 9,\n",
       "         'loud': 12,\n",
       "         'perhaps': 24,\n",
       "         'heard;': 1,\n",
       "         'rate,': 1,\n",
       "         'pause': 8,\n",
       "         'audibly': 1,\n",
       "         'expressive': 5,\n",
       "         'breath,': 7,\n",
       "         'holding': 9,\n",
       "         'having': 57,\n",
       "         'pulses\\n': 1,\n",
       "         'quickened': 2,\n",
       "         'expectation.\\n': 1,\n",
       "         'sound': 31,\n",
       "         'gallop': 3,\n",
       "         'fast': 16,\n",
       "         'furiously': 1,\n",
       "         'hill.\\n': 4,\n",
       "         '\"So-ho!\"': 1,\n",
       "         'sang': 2,\n",
       "         'out,': 54,\n",
       "         'roar.': 2,\n",
       "         ...})"
      ]
     },
     "execution_count": 28,
     "metadata": {},
     "output_type": "execute_result"
    }
   ],
   "source": [
    "count_words(lines)"
   ]
  },
  {
   "cell_type": "markdown",
   "metadata": {},
   "source": [
    "## Build Functions to Plot Histgram"
   ]
  },
  {
   "cell_type": "code",
   "execution_count": 24,
   "metadata": {},
   "outputs": [],
   "source": [
    "def histgram(values, x_size = 15, y_size =6, title = None, xlab = None, ylab = None, NUM_BINS = 30):\n",
    "    plt.rcParams[\"figure.figsize\"] = (x_size,y_size)\n",
    "    plt.hist(values, bins=NUM_BINS)\n",
    "    \n",
    "    if title:\n",
    "        plt.title(title)\n",
    "    if xlab:\n",
    "        plt.xlabel(xlab)\n",
    "    if ylab:\n",
    "        plt.ylabel(ylab) \n",
    "        \n",
    "    plt.show()\n",
    "    "
   ]
  },
  {
   "cell_type": "code",
   "execution_count": 26,
   "metadata": {},
   "outputs": [
    {
     "data": {
      "image/png": "[encoded data removed]",
      "text/plain": [
       "<Figure size 1080x432 with 1 Axes>"
      ]
     },
     "metadata": {
      "needs_background": "light"
     },
     "output_type": "display_data"
    }
   ],
   "source": [
    "histgram(word_count.values(), \n",
    "               title=\"Distribution of Word Count\",\n",
    "               xlab=\"Number of Times Word Appears\",\n",
    "               ylab=\"Number of Unique Words\")"
   ]
  },
  {
   "cell_type": "markdown",
   "metadata": {},
   "source": [
    " ## Exercise"
   ]
  },
  {
   "cell_type": "markdown",
   "metadata": {},
   "source": [
    "You are a business analyst working for a major US toy retailer:\n",
    "\n",
    "A manager in the marketing department wants to find out the most frequently used words in positive reviews (five stars) and negative reviews (one star) in order to determine who the toys are being bought for (sons, significant others, grandchildren, siblings, self, etc.). **He would like your opinion on which customer segments' (son, daughter, granddaugher, grandson, niece, nephew, sibling, significant other, etc.) marketing messaging tends to outperform other segments.**\n",
    "\n",
    "One of your product managers suspects that **toys with batteries tend to be significantly lower rated than toys that do not require batteries.** She would like to see some data points confirming or rejecting her hypothesis.\n",
    "\n",
    "Perform the same word count analysis using the reviews received from Amazon to answer your marketing manager's question. They are stored in two files, (poor_amazon_toy_reviews.txt) and (good-amazon-toy-reviews.txt). Provide a few sentences with your findings and business recommendations. Make any assumptions you'd like to- this is a fictitious company after all. I just want you to get into the habit of \"finishing\" your analysis: to avoid delivering technical numbers to a non-technical manager."
   ]
  },
  {
   "cell_type": "markdown",
   "metadata": {},
   "source": [
    "### Good Reviews"
   ]
  },
  {
   "cell_type": "code",
   "execution_count": 11,
   "metadata": {},
   "outputs": [],
   "source": [
    "good = open(\"good_amazon_toy_reviews.txt\",\"r\",encoding=\"utf-8\")\n",
    "bad = open(\"poor_amazon_toy_reviews.txt\",\"r\",encoding=\"utf-8\")"
   ]
  },
  {
   "cell_type": "code",
   "execution_count": 12,
   "metadata": {},
   "outputs": [],
   "source": [
    "good.seek(0)\n",
    "good_reviews = good.readlines()"
   ]
  },
  {
   "cell_type": "code",
   "execution_count": 13,
   "metadata": {},
   "outputs": [],
   "source": [
    "bad.seek(0)\n",
    "bad_reviews = bad.readlines()"
   ]
  },
  {
   "cell_type": "code",
   "execution_count": 38,
   "metadata": {},
   "outputs": [],
   "source": [
    "def word_count(lines, delimiter = \" \"):\n",
    "    words = Counter()\n",
    "    \n",
    "    for line in lines:\n",
    "        line = line.lower()\n",
    "        for word in line.split(delimiter):\n",
    "            words[word]+=1\n",
    "            \n",
    "    return words"
   ]
  },
  {
   "cell_type": "code",
   "execution_count": 40,
   "metadata": {},
   "outputs": [],
   "source": [
    "good_count = word_count(good_reviews)"
   ]
  },
  {
   "cell_type": "code",
   "execution_count": 41,
   "metadata": {},
   "outputs": [],
   "source": [
    "persons = ['son','daughter','granddaughter','grandson','niece','nephew','sibling','self']"
   ]
  },
  {
   "cell_type": "code",
   "execution_count": 61,
   "metadata": {},
   "outputs": [],
   "source": [
    "### Create keys for son and sons\n",
    "persons_count = {}\n",
    "\n",
    "for person in persons:\n",
    "    persons_count[person] = good_count[person] + good_count[person +\"s\"]"
   ]
  },
  {
   "cell_type": "code",
   "execution_count": 62,
   "metadata": {},
   "outputs": [
    {
     "data": {
      "text/plain": [
       "{'son': 6224,\n",
       " 'daughter': 6381,\n",
       " 'granddaughter': 2418,\n",
       " 'grandson': 3485,\n",
       " 'niece': 995,\n",
       " 'nephew': 1139,\n",
       " 'sibling': 58,\n",
       " 'self': 107}"
      ]
     },
     "execution_count": 62,
     "metadata": {},
     "output_type": "execute_result"
    }
   ],
   "source": [
    "persons_count"
   ]
  },
  {
   "cell_type": "code",
   "execution_count": 63,
   "metadata": {},
   "outputs": [],
   "source": [
    "### Include Sister and Brother into Siblings\n",
    "persons_count['sibling'] += good_count['sister']+good_count['sisters']+good_count['brother']+good_count['brothers']"
   ]
  },
  {
   "cell_type": "code",
   "execution_count": 64,
   "metadata": {},
   "outputs": [
    {
     "data": {
      "text/plain": [
       "{'son': 6224,\n",
       " 'daughter': 6381,\n",
       " 'granddaughter': 2418,\n",
       " 'grandson': 3485,\n",
       " 'niece': 995,\n",
       " 'nephew': 1139,\n",
       " 'sibling': 848,\n",
       " 'self': 107}"
      ]
     },
     "execution_count": 64,
     "metadata": {},
     "output_type": "execute_result"
    }
   ],
   "source": [
    "persons_count"
   ]
  },
  {
   "cell_type": "code",
   "execution_count": 50,
   "metadata": {},
   "outputs": [
    {
     "name": "stdout",
     "output_type": "stream",
     "text": [
      "The total count for sibling is 848\n",
      "the totol count for son is 6224\n"
     ]
    }
   ],
   "source": [
    "### Check if correct\n",
    "sibling = good_count['sibling']\n",
    "siblings  = good_count['siblings']\n",
    "brother = good_count['brother']\n",
    "brothers = good_count['brothers']\n",
    "sister = good_count['sister']\n",
    "sisters = good_count['sisters']\n",
    "\n",
    "print(f'The total count for sibling is {sibling+siblings+brother+brothers+sister+sisters}')\n",
    "\n",
    "son = good_count['son']\n",
    "sons = good_count['son'+'s']\n",
    "\n",
    "print(f'the totol count for son is {son+ sons}')"
   ]
  },
  {
   "cell_type": "code",
   "execution_count": 71,
   "metadata": {},
   "outputs": [],
   "source": [
    "### sort the list\n",
    "import operator\n",
    "sort_persons_count = sorted(persons_count.items(), key=operator.itemgetter(1), reverse = True)"
   ]
  },
  {
   "cell_type": "code",
   "execution_count": 72,
   "metadata": {},
   "outputs": [],
   "source": [
    "# seperate customer list and their corresponding counts \n",
    "customers = [i[0] for i in sort_persons_count]\n",
    "customer_value = [i[1] for i in sort_persons_count]"
   ]
  },
  {
   "cell_type": "code",
   "execution_count": 88,
   "metadata": {},
   "outputs": [
    {
     "data": {
      "image/png": "[encoded data removed]",
      "text/plain": [
       "<Figure size 720x360 with 1 Axes>"
      ]
     },
     "metadata": {
      "needs_background": "light"
     },
     "output_type": "display_data"
    }
   ],
   "source": [
    "### Plot the finall result\n",
    "import numpy as np\n",
    "import matplotlib.pyplot as plt\n",
    "x_labels = np.arange(len(customers))\n",
    "plt.figure(figsize = (10,5))\n",
    "plt.bar(x_labels, customer_value)\n",
    "plt.xticks(x_labels, customers)\n",
    "plt.xlabel(\"Customer Segment\")\n",
    "plt.ylabel(\"Word Count\")\n",
    "plt.title(\"Word Count for Customer Segments in Positive Reviews\")\n",
    "for a,b in zip(x_labels, customer_value):\n",
    "    plt.text(a, b, str(b), horizontalalignment='center', verticalalignment='bottom')\n",
    "plt.show()"
   ]
  },
  {
   "cell_type": "markdown",
   "metadata": {},
   "source": [
    "### Bad Reviews"
   ]
  },
  {
   "cell_type": "code",
   "execution_count": 89,
   "metadata": {},
   "outputs": [],
   "source": [
    "bad_count = word_count(bad_reviews)"
   ]
  },
  {
   "cell_type": "code",
   "execution_count": 90,
   "metadata": {},
   "outputs": [],
   "source": [
    "persons_count = {}\n",
    "for person in persons:\n",
    "    persons_count[person] = bad_count[person] + bad_count[person +\"s\"]\n",
    "persons_count['sibling'] += bad_count['sister']+bad_count['sisters']+bad_count['brother']+bad_count['brothers']"
   ]
  },
  {
   "cell_type": "code",
   "execution_count": 91,
   "metadata": {},
   "outputs": [],
   "source": [
    "sort_persons_count = sorted(persons_count.items(), key=operator.itemgetter(1), reverse = True)"
   ]
  },
  {
   "cell_type": "code",
   "execution_count": 92,
   "metadata": {},
   "outputs": [],
   "source": [
    "customers = [i[0] for i in sort_persons_count]\n",
    "customer_value = [i[1] for i in sort_persons_count]"
   ]
  },
  {
   "cell_type": "code",
   "execution_count": 93,
   "metadata": {},
   "outputs": [
    {
     "data": {
      "image/png": "[encoded data removed]",
      "text/plain": [
       "<Figure size 720x360 with 1 Axes>"
      ]
     },
     "metadata": {
      "needs_background": "light"
     },
     "output_type": "display_data"
    }
   ],
   "source": [
    "import numpy as np\n",
    "import matplotlib.pyplot as plt\n",
    "x_labels = np.arange(len(customers))\n",
    "plt.figure(figsize = (10,5))\n",
    "plt.bar(x_labels, customer_value)\n",
    "plt.xticks(x_labels, customers)\n",
    "plt.xlabel(\"Customer Segment\")\n",
    "plt.ylabel(\"Word Count\")\n",
    "plt.title(\"Word Count for Customer Segments in Positive Reviews\")\n",
    "for a,b in zip(x_labels, customer_value):\n",
    "    plt.text(a, b, str(b), horizontalalignment='center', verticalalignment='bottom')\n",
    "plt.show()"
   ]
  },
  {
   "cell_type": "markdown",
   "metadata": {},
   "source": [
    "### Battery"
   ]
  },
  {
   "cell_type": "code",
   "execution_count": 95,
   "metadata": {},
   "outputs": [],
   "source": [
    "## Count # of battery in good/ bad reviews\n",
    "good_battery_count = good_count['battery'] + good_count['batteries']\n",
    "bad_battery_count = bad_count['battery'] + bad_count['batteries']"
   ]
  },
  {
   "cell_type": "code",
   "execution_count": 96,
   "metadata": {},
   "outputs": [],
   "source": [
    "## Count total number of good and bad reviews\n",
    "num_good = len(good_reviews)\n",
    "num_bad = len(bad_reviews)"
   ]
  },
  {
   "cell_type": "code",
   "execution_count": 98,
   "metadata": {},
   "outputs": [
    {
     "name": "stdout",
     "output_type": "stream",
     "text": [
      "[0.         0.01009091 0.02018182 0.03027273 0.04036364 0.05045455\n",
      " 0.06054545 0.07063636 0.08072727 0.09081818 0.10090909 0.111\n",
      " 0.12109091 0.13118182 0.14127273 0.15136364 0.16145455 0.17154545\n",
      " 0.18163636 0.19172727 0.20181818 0.21190909 0.222      0.23209091\n",
      " 0.24218182 0.25227273 0.26236364 0.27245455 0.28254545 0.29263636\n",
      " 0.30272727 0.31281818 0.32290909 0.333      0.34309091 0.35318182\n",
      " 0.36327273 0.37336364 0.38345455 0.39354545 0.40363636 0.41372727\n",
      " 0.42381818 0.43390909 0.444      0.45409091 0.46418182 0.47427273\n",
      " 0.48436364 0.49445455 0.50454545 0.51463636 0.52472727 0.53481818\n",
      " 0.54490909 0.555      0.56509091 0.57518182 0.58527273 0.59536364\n",
      " 0.60545455 0.61554545 0.62563636 0.63572727 0.64581818 0.65590909\n",
      " 0.666      0.67609091 0.68618182 0.69627273 0.70636364 0.71645455\n",
      " 0.72654545 0.73663636 0.74672727 0.75681818 0.76690909 0.777\n",
      " 0.78709091 0.79718182 0.80727273 0.81736364 0.82745455 0.83754545\n",
      " 0.84763636 0.85772727 0.86781818 0.87790909 0.888      0.89809091\n",
      " 0.90818182 0.91827273 0.92836364 0.93845455 0.94854545 0.95863636\n",
      " 0.96872727 0.97881818 0.98890909 0.999     ]\n"
     ]
    }
   ],
   "source": [
    "## For the rest of records, assume a certain percentage of battery\n",
    "battery_per = np.linspace(0, 0.999, 100)\n",
    "print(battery_per)"
   ]
  },
  {
   "cell_type": "code",
   "execution_count": 99,
   "metadata": {},
   "outputs": [],
   "source": [
    "total_good_battery = good_battery_count + battery_per * (num_good - good_battery_count)\n",
    "total_bad_battery = bad_battery_count + battery_per * (num_bad - bad_battery_count)"
   ]
  },
  {
   "cell_type": "code",
   "execution_count": 100,
   "metadata": {},
   "outputs": [],
   "source": [
    "total_good_nobattery = num_good -total_good_battery\n",
    "total_bad_nobattery = num_bad - total_bad_battery"
   ]
  },
  {
   "cell_type": "code",
   "execution_count": 102,
   "metadata": {},
   "outputs": [],
   "source": [
    "## Calculate average stars\n",
    "battery_avg = (5*total_good_battery + 1*total_bad_battery)/(total_bad_battery+total_good_battery)\n",
    "nobattery_avg = (5*total_good_nobattery + 1*total_bad_nobattery)/(total_bad_nobattery+total_good_nobattery)"
   ]
  },
  {
   "cell_type": "code",
   "execution_count": 103,
   "metadata": {},
   "outputs": [
    {
     "data": {
      "text/plain": [
       "[<matplotlib.lines.Line2D at 0x21e09549fd0>]"
      ]
     },
     "execution_count": 103,
     "metadata": {},
     "output_type": "execute_result"
    },
    {
     "data": {
      "image/png": "[encoded data removed]",
      "text/plain": [
       "<Figure size 1080x504 with 1 Axes>"
      ]
     },
     "metadata": {
      "needs_background": "light"
     },
     "output_type": "display_data"
    }
   ],
   "source": [
    "plt.figure(figsize=(15,7))\n",
    "plt.plot(battery_per, battery_avg, label = \"average review star for toys with battery\")\n",
    "plt.plot(battery_per, nobattery_avg, label = \"average review star for toys without battery\")"
   ]
  }
 ],
 "metadata": {
  "kernelspec": {
   "display_name": "Python 3",
   "language": "python",
   "name": "python3"
  },
  "language_info": {
   "codemirror_mode": {
    "name": "ipython",
    "version": 3
   },
   "file_extension": ".py",
   "mimetype": "text/x-python",
   "name": "python",
   "nbconvert_exporter": "python",
   "pygments_lexer": "ipython3",
   "version": "3.7.3"
  },
  "toc": {
   "base_numbering": 1,
   "nav_menu": {},
   "number_sections": true,
   "sideBar": true,
   "skip_h1_title": false,
   "title_cell": "Table of Contents",
   "title_sidebar": "Contents",
   "toc_cell": false,
   "toc_position": {
    "height": "calc(100% - 180px)",
    "left": "10px",
    "top": "150px",
    "width": "307.2px"
   },
   "toc_section_display": true,
   "toc_window_display": true
  }
 },
 "nbformat": 4,
 "nbformat_minor": 2
}
